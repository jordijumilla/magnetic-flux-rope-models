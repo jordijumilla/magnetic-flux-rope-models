{
 "cells": [
  {
   "cell_type": "code",
   "execution_count": 1,
   "metadata": {},
   "outputs": [],
   "source": [
    "# This is needed to import the CC and EC Models from this location in this project.\n",
    "import sys\n",
    "sys.path.append(\"../..\")\n",
    "\n",
    "# Import the magnetic flux rope models\n",
    "from MagneticFluxRopeModels.CCModel import CCModel\n",
    "from MagneticFluxRopeModels.ECModel import ECModel\n",
    "\n",
    "# Import necessary Python libraries\n",
    "import math\n",
    "import numpy as np\n",
    "import matplotlib.pyplot as plt"
   ]
  },
  {
   "cell_type": "markdown",
   "metadata": {},
   "source": [
    "# Validate the magnetic axial flux"
   ]
  },
  {
   "cell_type": "markdown",
   "metadata": {},
   "source": [
    "## 2017 EC Model Article\n",
    "CC Model"
   ]
  },
  {
   "cell_type": "code",
   "execution_count": 3,
   "metadata": {},
   "outputs": [
    {
     "name": "stdout",
     "output_type": "stream",
     "text": [
      "J_boundary = [0.00000, 1.36674, 0.89917] pA/m^2\n",
      "C_nm = 1.52000\n"
     ]
    }
   ],
   "source": [
    "cc_model_article = CCModel(B_z_0=17.6, R=0.137, C_nm=1.52, tau=1.0)\n",
    "J_boundary = cc_model_article.get_current_density_field_elliptical_coordinates(r=cc_model_article.R, phi=0)\n",
    "J_boundary = J_boundary*1e12\n",
    "print(f\"J_boundary = [{J_boundary[0]:.5f}, {J_boundary[1]:.5f}, {J_boundary[2]:.5f}] pA/m^2\")\n",
    "print(f\"C_nm = {J_boundary[1] / J_boundary[2]:.5f}\")\n"
   ]
  },
  {
   "cell_type": "code",
   "execution_count": 4,
   "metadata": {},
   "outputs": [
    {
     "data": {
      "text/plain": [
       "1.52"
      ]
     },
     "execution_count": 4,
     "metadata": {},
     "output_type": "execute_result"
    }
   ],
   "source": [
    "(cc_model_article.alpha_n / cc_model_article.beta_m)*(cc_model_article.R * cc_model_article.AU_to_m)**(1-0)"
   ]
  },
  {
   "cell_type": "code",
   "execution_count": 18,
   "metadata": {},
   "outputs": [
    {
     "name": "stdout",
     "output_type": "stream",
     "text": [
      "Total axial magnetic flux: 1.1612 (x 10^21) Mx\n",
      "Total poloidal magnetic flux: 237.3095 (x 10^8) Mx/m\n"
     ]
    }
   ],
   "source": [
    "cc_phi_z = cc_model_article.get_total_axial_magnetic_flux(units=\"Mx\")\n",
    "cc_phi_poloidal = cc_model_article.get_total_poloidal_magnetic_flux(units=\"Mx\")\n",
    "\n",
    "cc_phi_z_Mx = cc_phi_z * 1\n",
    "cc_phi_poloidal_Mx = cc_phi_poloidal * 1\n",
    "\n",
    "print(f\"Total axial magnetic flux: {cc_phi_z_Mx / 1e21:.4f} (x 10^21) Mx\")\n",
    "print(f\"Total poloidal magnetic flux: {cc_phi_poloidal_Mx / 1e8:.4f} (x 10^8) Mx/m\")"
   ]
  },
  {
   "cell_type": "code",
   "execution_count": 7,
   "metadata": {},
   "outputs": [
    {
     "data": {
      "text/plain": [
       "10.333721260364971"
      ]
     },
     "execution_count": 7,
     "metadata": {},
     "output_type": "execute_result"
    }
   ],
   "source": [
    "# Axial magnetic flux comparison.\n",
    "theoretical_cc_phi_z_Mx = 12*1e21\n",
    "(theoretical_cc_phi_z_Mx) / cc_phi_z_Mx"
   ]
  },
  {
   "cell_type": "code",
   "execution_count": 27,
   "metadata": {},
   "outputs": [
    {
     "data": {
      "text/plain": [
       "-0.5014549264581603"
      ]
     },
     "execution_count": 27,
     "metadata": {},
     "output_type": "execute_result"
    }
   ],
   "source": [
    "# Axial magnetic flux comparison.\n",
    "theoretical_cc_phi_poloidal_Mx = 119*1e8\n",
    "(theoretical_cc_phi_poloidal_Mx) / cc_phi_poloidal_Mx"
   ]
  },
  {
   "cell_type": "markdown",
   "metadata": {},
   "source": [
    "## 2017 EC Model Article\n",
    "EC Model"
   ]
  },
  {
   "cell_type": "code",
   "execution_count": 19,
   "metadata": {},
   "outputs": [
    {
     "name": "stdout",
     "output_type": "stream",
     "text": [
      "Total axial magnetic flux: 1.3129 (x 10^21) Mx\n",
      "Total poloid magnetic flux: 116.5397 (x 10^8) Mx/m\n"
     ]
    }
   ],
   "source": [
    "ec_model_article = ECModel(delta=0.38, psi=math.radians(138), B_z_0=15.6, R=0.251, C_nm=1.91, tau=1.0)\n",
    "ec_phi_z = ec_model_article.get_total_axial_magnetic_flux(units=\"Mx\")\n",
    "ec_phi_poloidal = ec_model_article.get_total_poloidal_magnetic_flux(units=\"Mx\")\n",
    "\n",
    "ec_phi_z_Mx = ec_phi_z\n",
    "ec_phi_poloidal_Mx = ec_phi_poloidal\n",
    "\n",
    "print(f\"Total axial magnetic flux: {ec_phi_z_Mx / 1e21:.4f} (x 10^21) Mx\")\n",
    "print(f\"Total poloid magnetic flux: {ec_phi_poloidal_Mx / 1e8:.4f} (x 10^8) Mx/m\")"
   ]
  },
  {
   "cell_type": "code",
   "execution_count": 20,
   "metadata": {},
   "outputs": [
    {
     "data": {
      "text/plain": [
       "9.901865280397447"
      ]
     },
     "execution_count": 20,
     "metadata": {},
     "output_type": "execute_result"
    }
   ],
   "source": [
    "# Axial magnetic flux comparison.\n",
    "(13.0 * 1e21) / ec_phi_z_Mx"
   ]
  },
  {
   "cell_type": "code",
   "execution_count": 22,
   "metadata": {},
   "outputs": [
    {
     "data": {
      "text/plain": [
       "1.1538585897823317"
      ]
     },
     "execution_count": 22,
     "metadata": {},
     "output_type": "execute_result"
    }
   ],
   "source": [
    "# Axial magnetic flux comparison.\n",
    "ec_phi_poloidal_Mx / (101.0 * 1e8)"
   ]
  },
  {
   "cell_type": "code",
   "execution_count": 17,
   "metadata": {},
   "outputs": [
    {
     "data": {
      "text/plain": [
       "2.975214207179148"
      ]
     },
     "execution_count": 17,
     "metadata": {},
     "output_type": "execute_result"
    }
   ],
   "source": [
    "ec_phi_z_Mx / cc_phi_z_Mx "
   ]
  }
 ],
 "metadata": {
  "kernelspec": {
   "display_name": "venv",
   "language": "python",
   "name": "python3"
  },
  "language_info": {
   "codemirror_mode": {
    "name": "ipython",
    "version": 3
   },
   "file_extension": ".py",
   "mimetype": "text/x-python",
   "name": "python",
   "nbconvert_exporter": "python",
   "pygments_lexer": "ipython3",
   "version": "3.12.3"
  }
 },
 "nbformat": 4,
 "nbformat_minor": 2
}
