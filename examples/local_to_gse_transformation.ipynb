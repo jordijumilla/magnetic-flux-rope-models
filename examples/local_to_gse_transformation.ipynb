{
 "cells": [
  {
   "cell_type": "markdown",
   "id": "2b54b51b",
   "metadata": {},
   "source": [
    "# Local flux rope coordinates to GSE coordinates transformation\n",
    "\n",
    "Development notebook to test these coordinate transformations."
   ]
  },
  {
   "cell_type": "code",
   "execution_count": 1,
   "id": "e8fe56c3",
   "metadata": {},
   "outputs": [],
   "source": [
    "import sys\n",
    "sys.path.append(\"..\")\n",
    "\n",
    "# Import the magnetic flux rope models\n",
    "from MagneticFluxRopeModels.EllipticalCylindricalModel import EllipticalCylindricalModel\n",
    "\n",
    "\n",
    "import math\n",
    "import numpy as np"
   ]
  },
  {
   "cell_type": "code",
   "execution_count": 2,
   "id": "e910551e",
   "metadata": {},
   "outputs": [],
   "source": [
    "e_x_local = np.array([1, 0, 0])\n",
    "e_y_local = np.array([0, 1, 0])\n",
    "e_z_local = np.array([0, 0, 1])"
   ]
  },
  {
   "cell_type": "code",
   "execution_count": 3,
   "id": "1ff01390",
   "metadata": {},
   "outputs": [
    {
     "name": "stdout",
     "output_type": "stream",
     "text": [
      "x_local: [0.96592583 0.25881905 0.        ]\n",
      "y_local: [0. 0. 1.]\n",
      "z_local: [-0.25881905  0.96592583  0.        ]\n"
     ]
    }
   ],
   "source": [
    "gamma = math.radians(15)\n",
    "theta = math.radians(0)\n",
    "matrix_gamma = EllipticalCylindricalModel.convert_local_to_gse_coordinates(gamma=gamma, theta=theta)\n",
    "print(\"x_local:\", matrix_gamma @ e_x_local)\n",
    "print(\"y_local:\", matrix_gamma @ e_y_local)\n",
    "print(\"z_local:\", matrix_gamma @ e_z_local)"
   ]
  },
  {
   "cell_type": "code",
   "execution_count": 4,
   "id": "8d80a4cb",
   "metadata": {},
   "outputs": [
    {
     "name": "stdout",
     "output_type": "stream",
     "text": [
      "x_local: [1. 0. 0.]\n",
      "y_local: [ 0.         -0.25881905  0.96592583]\n",
      "z_local: [0.         0.96592583 0.25881905]\n"
     ]
    }
   ],
   "source": [
    "gamma = math.radians(0)\n",
    "theta = math.radians(15)\n",
    "matrix_theta = EllipticalCylindricalModel.convert_local_to_gse_coordinates(gamma=gamma, theta=theta)\n",
    "print(\"x_local:\", matrix_theta @ e_x_local)\n",
    "print(\"y_local:\", matrix_theta @ e_y_local)\n",
    "print(\"z_local:\", matrix_theta @ e_z_local)"
   ]
  }
 ],
 "metadata": {
  "kernelspec": {
   "display_name": "venv",
   "language": "python",
   "name": "python3"
  },
  "language_info": {
   "codemirror_mode": {
    "name": "ipython",
    "version": 3
   },
   "file_extension": ".py",
   "mimetype": "text/x-python",
   "name": "python",
   "nbconvert_exporter": "python",
   "pygments_lexer": "ipython3",
   "version": "3.12.3"
  }
 },
 "nbformat": 4,
 "nbformat_minor": 5
}
